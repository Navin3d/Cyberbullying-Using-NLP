{
 "cells": [
  {
   "cell_type": "code",
   "execution_count": 1,
   "metadata": {},
   "outputs": [],
   "source": [
    "import pickle\n",
    "import pandas as pd\n",
    "import tensorflow as tf\n",
    "from tensorflow.keras import layers\n",
    "from sklearn.pipeline import Pipeline\n",
    "from sklearn.naive_bayes import MultinomialNB\n",
    "from sklearn.model_selection import train_test_split\n",
    "from sklearn.feature_extraction.text import TfidfVectorizer\n",
    "from sklearn.metrics import accuracy_score, precision_recall_fscore_support\n",
    "from tensorflow.keras.layers.experimental.preprocessing import TextVectorization"
   ]
  },
  {
   "cell_type": "code",
   "execution_count": 2,
   "metadata": {},
   "outputs": [
    {
     "data": {
      "text/html": [
       "<div>\n",
       "<style scoped>\n",
       "    .dataframe tbody tr th:only-of-type {\n",
       "        vertical-align: middle;\n",
       "    }\n",
       "\n",
       "    .dataframe tbody tr th {\n",
       "        vertical-align: top;\n",
       "    }\n",
       "\n",
       "    .dataframe thead th {\n",
       "        text-align: right;\n",
       "    }\n",
       "</style>\n",
       "<table border=\"1\" class=\"dataframe\">\n",
       "  <thead>\n",
       "    <tr style=\"text-align: right;\">\n",
       "      <th></th>\n",
       "      <th>content</th>\n",
       "      <th>label</th>\n",
       "      <th>Unnamed: 2</th>\n",
       "      <th>Unnamed: 3</th>\n",
       "    </tr>\n",
       "  </thead>\n",
       "  <tbody>\n",
       "    <tr>\n",
       "      <th>10650</th>\n",
       "      <td>fucking beautiful shoes.</td>\n",
       "      <td>0</td>\n",
       "      <td>NaN</td>\n",
       "      <td>NaN</td>\n",
       "    </tr>\n",
       "    <tr>\n",
       "      <th>2041</th>\n",
       "      <td>fuck you  change your name. Do you know who I ...</td>\n",
       "      <td>1</td>\n",
       "      <td>NaN</td>\n",
       "      <td>NaN</td>\n",
       "    </tr>\n",
       "    <tr>\n",
       "      <th>8668</th>\n",
       "      <td>Per my other tweets  I've (hopefully temporari...</td>\n",
       "      <td>0</td>\n",
       "      <td>NaN</td>\n",
       "      <td>NaN</td>\n",
       "    </tr>\n",
       "    <tr>\n",
       "      <th>1114</th>\n",
       "      <td>\"If you not on twitter you're a fucking moron\"...</td>\n",
       "      <td>1</td>\n",
       "      <td>NaN</td>\n",
       "      <td>NaN</td>\n",
       "    </tr>\n",
       "    <tr>\n",
       "      <th>13902</th>\n",
       "      <td>Yep  he left with supposed \"mercury poisoning\"...</td>\n",
       "      <td>0</td>\n",
       "      <td>NaN</td>\n",
       "      <td>NaN</td>\n",
       "    </tr>\n",
       "  </tbody>\n",
       "</table>\n",
       "</div>"
      ],
      "text/plain": [
       "                                                 content  label  Unnamed: 2  \\\n",
       "10650                           fucking beautiful shoes.      0         NaN   \n",
       "2041   fuck you  change your name. Do you know who I ...      1         NaN   \n",
       "8668   Per my other tweets  I've (hopefully temporari...      0         NaN   \n",
       "1114   \"If you not on twitter you're a fucking moron\"...      1         NaN   \n",
       "13902  Yep  he left with supposed \"mercury poisoning\"...      0         NaN   \n",
       "\n",
       "       Unnamed: 3  \n",
       "10650         NaN  \n",
       "2041          NaN  \n",
       "8668          NaN  \n",
       "1114          NaN  \n",
       "13902         NaN  "
      ]
     },
     "execution_count": 2,
     "metadata": {},
     "output_type": "execute_result"
    }
   ],
   "source": [
    "train_df = pd.read_csv('./data/final_dataset.csv')\n",
    "train_df_shuffled = train_df.sample(frac=1, random_state=42) # shuffle with random_state=42 for reproducibility\n",
    "train_df_shuffled.head()"
   ]
  },
  {
   "cell_type": "code",
   "execution_count": 3,
   "metadata": {},
   "outputs": [
    {
     "data": {
      "text/plain": [
       "0    12179\n",
       "1     7822\n",
       "Name: label, dtype: int64"
      ]
     },
     "execution_count": 3,
     "metadata": {},
     "output_type": "execute_result"
    }
   ],
   "source": [
    "train_df.label.value_counts()"
   ]
  },
  {
   "cell_type": "code",
   "execution_count": 4,
   "metadata": {},
   "outputs": [],
   "source": [
    "train_sentences, val_sentences, train_labels, val_labels = train_test_split(train_df_shuffled[\"content\"].to_numpy(),\n",
    "                                                                            train_df_shuffled[\"label\"].to_numpy(),\n",
    "                                                                            test_size=0.1,\n",
    "                                                                            random_state=42)"
   ]
  },
  {
   "cell_type": "code",
   "execution_count": 5,
   "metadata": {},
   "outputs": [],
   "source": [
    "max_vocab_length = 10000\n",
    "max_length = 15\n",
    "\n",
    "text_vectorizer = TextVectorization(max_tokens=max_vocab_length,\n",
    "                                    standardize=\"lower_and_strip_punctuation\",\n",
    "                                    split=\"whitespace\",\n",
    "                                    ngrams=None,\n",
    "                                    output_mode=\"int\",\n",
    "                                    output_sequence_length=max_length)"
   ]
  },
  {
   "cell_type": "code",
   "execution_count": 6,
   "metadata": {},
   "outputs": [],
   "source": [
    "text_vectorizer.adapt(train_sentences)"
   ]
  },
  {
   "cell_type": "code",
   "execution_count": 7,
   "metadata": {},
   "outputs": [
    {
     "data": {
      "text/plain": [
       "<tf.Tensor: shape=(1, 15), dtype=int64, numpy=\n",
       "array([[ 336,    6,    1,   14,   12, 1089,    0,    0,    0,    0,    0,\n",
       "           0,    0,    0,    0]], dtype=int64)>"
      ]
     },
     "execution_count": 7,
     "metadata": {},
     "output_type": "execute_result"
    }
   ],
   "source": [
    "sample_sentence = \"There's a flood in my street!\"\n",
    "text_vectorizer([sample_sentence])"
   ]
  },
  {
   "cell_type": "code",
   "execution_count": 8,
   "metadata": {},
   "outputs": [],
   "source": [
    "def calculate_results(y_true, y_pred):\n",
    "  model_accuracy = accuracy_score(y_true, y_pred) * 100\n",
    "  model_precision, model_recall, model_f1, _ = precision_recall_fscore_support(y_true, y_pred, average=\"weighted\")\n",
    "  model_results = {\"accuracy\": model_accuracy,\n",
    "                  \"precision\": model_precision,\n",
    "                  \"recall\": model_recall,\n",
    "                  \"f1\": model_f1}\n",
    "  return model_results"
   ]
  },
  {
   "cell_type": "code",
   "execution_count": 9,
   "metadata": {},
   "outputs": [],
   "source": [
    "embedding = layers.Embedding(input_dim=max_vocab_length,\n",
    "                                     output_dim=128,\n",
    "                                     embeddings_initializer=\"uniform\",\n",
    "                                     input_length=max_length,\n",
    "                                     name=\"embedding\")\n",
    "\n",
    "inputs = layers.Input(shape=(1,), dtype=\"string\")\n",
    "x = text_vectorizer(inputs)\n",
    "x = embedding(x)\n",
    "x = layers.Bidirectional(layers.LSTM(64))(x)\n",
    "outputs = layers.Dense(1, activation=\"sigmoid\")(x)\n",
    "model = tf.keras.Model(inputs, outputs, name=\"model_4_Bidirectional\")"
   ]
  },
  {
   "cell_type": "code",
   "execution_count": 10,
   "metadata": {},
   "outputs": [],
   "source": [
    "model.compile(loss=\"binary_crossentropy\",\n",
    "                optimizer=tf.keras.optimizers.Adam(),\n",
    "                metrics=[\"accuracy\"])"
   ]
  },
  {
   "cell_type": "code",
   "execution_count": 11,
   "metadata": {},
   "outputs": [
    {
     "name": "stdout",
     "output_type": "stream",
     "text": [
      "Epoch 1/15\n",
      "563/563 [==============================] - 23s 35ms/step - loss: 0.4256 - accuracy: 0.7953 - val_loss: 0.4100 - val_accuracy: 0.8496\n",
      "Epoch 2/15\n",
      "563/563 [==============================] - 20s 35ms/step - loss: 0.2388 - accuracy: 0.9093 - val_loss: 0.3486 - val_accuracy: 0.8771\n",
      "Epoch 3/15\n",
      "563/563 [==============================] - 20s 36ms/step - loss: 0.1493 - accuracy: 0.9500 - val_loss: 0.3004 - val_accuracy: 0.8956\n",
      "Epoch 4/15\n",
      "563/563 [==============================] - 19s 34ms/step - loss: 0.1084 - accuracy: 0.9646 - val_loss: 0.2926 - val_accuracy: 0.9070\n",
      "Epoch 5/15\n",
      "563/563 [==============================] - 19s 34ms/step - loss: 0.0803 - accuracy: 0.9728 - val_loss: 0.3005 - val_accuracy: 0.9010\n",
      "Epoch 6/15\n",
      "563/563 [==============================] - 20s 35ms/step - loss: 0.0653 - accuracy: 0.9784 - val_loss: 0.3022 - val_accuracy: 0.9105\n",
      "Epoch 7/15\n",
      "563/563 [==============================] - 20s 35ms/step - loss: 0.0571 - accuracy: 0.9813 - val_loss: 0.3138 - val_accuracy: 0.9170\n",
      "Epoch 8/15\n",
      "563/563 [==============================] - 20s 35ms/step - loss: 0.0460 - accuracy: 0.9843 - val_loss: 0.3197 - val_accuracy: 0.9200\n",
      "Epoch 9/15\n",
      "563/563 [==============================] - 20s 35ms/step - loss: 0.0391 - accuracy: 0.9865 - val_loss: 0.3661 - val_accuracy: 0.9230\n",
      "Epoch 10/15\n",
      "563/563 [==============================] - 19s 34ms/step - loss: 0.0372 - accuracy: 0.9873 - val_loss: 0.2903 - val_accuracy: 0.9300\n",
      "Epoch 11/15\n",
      "563/563 [==============================] - 19s 34ms/step - loss: 0.0330 - accuracy: 0.9888 - val_loss: 0.3231 - val_accuracy: 0.9280\n",
      "Epoch 12/15\n",
      "563/563 [==============================] - 20s 35ms/step - loss: 0.0310 - accuracy: 0.9884 - val_loss: 0.3324 - val_accuracy: 0.9295\n",
      "Epoch 13/15\n",
      "563/563 [==============================] - 20s 35ms/step - loss: 0.0275 - accuracy: 0.9907 - val_loss: 0.3482 - val_accuracy: 0.9290\n",
      "Epoch 14/15\n",
      "563/563 [==============================] - 20s 35ms/step - loss: 0.0236 - accuracy: 0.9918 - val_loss: 0.3778 - val_accuracy: 0.9330\n",
      "Epoch 15/15\n",
      "563/563 [==============================] - 20s 35ms/step - loss: 0.0236 - accuracy: 0.9912 - val_loss: 0.3746 - val_accuracy: 0.9330\n"
     ]
    }
   ],
   "source": [
    "model_history = model.fit(train_sentences,\n",
    "                              train_labels,\n",
    "                              epochs=15,\n",
    "                              validation_data=(val_sentences, val_labels))"
   ]
  },
  {
   "cell_type": "code",
   "execution_count": 19,
   "metadata": {},
   "outputs": [
    {
     "name": "stdout",
     "output_type": "stream",
     "text": [
      "1/1 [==============================] - 0s 41ms/step\n"
     ]
    },
    {
     "data": {
      "text/plain": [
       "array([[0.94859457]], dtype=float32)"
      ]
     },
     "execution_count": 19,
     "metadata": {},
     "output_type": "execute_result"
    }
   ],
   "source": [
    "text = \"fuck\"\n",
    "token = text_vectorizer([text])\n",
    "# print(val_sentences)\n",
    "\n",
    "model_pred_probs = model.predict([text])\n",
    "model_pred_probs[:10]"
   ]
  },
  {
   "cell_type": "code",
   "execution_count": 20,
   "metadata": {},
   "outputs": [
    {
     "name": "stderr",
     "output_type": "stream",
     "text": [
      "WARNING:absl:Found untraced functions such as lstm_cell_1_layer_call_fn, lstm_cell_1_layer_call_and_return_conditional_losses, lstm_cell_2_layer_call_fn, lstm_cell_2_layer_call_and_return_conditional_losses while saving (showing 4 of 4). These functions will not be directly callable after loading.\n"
     ]
    },
    {
     "name": "stdout",
     "output_type": "stream",
     "text": [
      "INFO:tensorflow:Assets written to: Cyber_Disaster\\assets\n"
     ]
    },
    {
     "name": "stderr",
     "output_type": "stream",
     "text": [
      "INFO:tensorflow:Assets written to: Cyber_Disaster\\assets\n"
     ]
    }
   ],
   "source": [
    "model.save(\"Cyber_Disaster\")"
   ]
  },
  {
   "cell_type": "code",
   "execution_count": 21,
   "metadata": {},
   "outputs": [
    {
     "name": "stdout",
     "output_type": "stream",
     "text": [
      "1/1 [==============================] - 1s 743ms/step\n"
     ]
    },
    {
     "data": {
      "text/plain": [
       "array([[0.94859457]], dtype=float32)"
      ]
     },
     "execution_count": 21,
     "metadata": {},
     "output_type": "execute_result"
    }
   ],
   "source": [
    "loaded_model = tf.keras.models.load_model(\"Cyber_Disaster\")\n",
    "loaded_model.predict([text])"
   ]
  }
 ],
 "metadata": {
  "kernelspec": {
   "display_name": "Python 3",
   "language": "python",
   "name": "python3"
  },
  "language_info": {
   "codemirror_mode": {
    "name": "ipython",
    "version": 3
   },
   "file_extension": ".py",
   "mimetype": "text/x-python",
   "name": "python",
   "nbconvert_exporter": "python",
   "pygments_lexer": "ipython3",
   "version": "3.8.3"
  }
 },
 "nbformat": 4,
 "nbformat_minor": 4
}
